{
 "metadata": {
  "language_info": {
   "codemirror_mode": {
    "name": "ipython",
    "version": 3
   },
   "file_extension": ".py",
   "mimetype": "text/x-python",
   "name": "python",
   "nbconvert_exporter": "python",
   "pygments_lexer": "ipython3",
   "version": "3.8.3"
  },
  "orig_nbformat": 4,
  "kernelspec": {
   "name": "python3",
   "display_name": "Python 3.8.3 64-bit ('base': conda)"
  },
  "interpreter": {
   "hash": "ca67d84a36abdc019b205ab7c50d01a04b833376a62d5994dd24f404f2732c8e"
  }
 },
 "nbformat": 4,
 "nbformat_minor": 2,
 "cells": [
  {
   "cell_type": "markdown",
   "source": [
    "# Dados CGU - xml2csv"
   ],
   "metadata": {}
  },
  {
   "cell_type": "markdown",
   "source": [
    "## Bibliotecas"
   ],
   "metadata": {}
  },
  {
   "cell_type": "code",
   "execution_count": 1,
   "source": [
    "import xml.etree.ElementTree as ET\r\n",
    "from lxml import etree\r\n",
    "import pandas as pandas\r\n",
    "import numpy as np\r\n",
    "from datetime import datetime, timedelta\r\n",
    "from os import listdir, walk"
   ],
   "outputs": [],
   "metadata": {}
  },
  {
   "cell_type": "markdown",
   "source": [
    "## Coleta nome dos arquivos"
   ],
   "metadata": {}
  },
  {
   "cell_type": "code",
   "execution_count": null,
   "source": [
    "mypath = 'C:/Users/rauld/Documents/negativas-acesso-informacao-Executivo-federal-2021-1/dados/load/xml'\r\n",
    "filenames = next(walk(mypath), (None, None, []))[2]\r\n",
    "filenames"
   ],
   "outputs": [],
   "metadata": {}
  },
  {
   "cell_type": "markdown",
   "source": [
    "## Prepara os dados"
   ],
   "metadata": {}
  },
  {
   "cell_type": "code",
   "execution_count": 4,
   "source": [
    "def preparando_dados(arquivo):\r\n",
    "  f = open(arquivo, 'r', encoding='utf-16')\r\n",
    "  xml_data = f.read()\r\n",
    "  xml_data = xml_data.replace('&', '')\r\n",
    "\r\n",
    "  root = ET.XML(xml_data)\r\n",
    "  resultado = []\r\n",
    "  for obj in list(root):\r\n",
    "    resultado.append(obj.attrib)\r\n",
    "\r\n",
    "  df = pandas.DataFrame(resultado)\r\n",
    "  return df"
   ],
   "outputs": [],
   "metadata": {}
  },
  {
   "cell_type": "markdown",
   "source": [
    "### Subset da base"
   ],
   "metadata": {}
  },
  {
   "cell_type": "code",
   "execution_count": 5,
   "source": [
    "filepaths_solicitantes = [mypath + '/' + k for k in filenames if 'Solicitantes' in k]\r\n",
    "dfs = [preparando_dados(k) for k in filepaths_solicitantes]"
   ],
   "outputs": [],
   "metadata": {}
  },
  {
   "cell_type": "code",
   "execution_count": 11,
   "source": [
    "dfs[0].info()"
   ],
   "outputs": [
    {
     "output_type": "stream",
     "name": "stdout",
     "text": [
      "<class 'pandas.core.frame.DataFrame'>\n",
      "RangeIndex: 4780184 entries, 0 to 4780183\n",
      "Data columns (total 10 columns):\n",
      " #   Column              Dtype \n",
      "---  ------              ----- \n",
      " 0   IdSolicitante       object\n",
      " 1   TipoDemandante      object\n",
      " 2   DataNascimento      object\n",
      " 3   Genero              object\n",
      " 4   Pais                object\n",
      " 5   UF                  object\n",
      " 6   Municipio           object\n",
      " 7   Escolaridade        object\n",
      " 8   Profissao           object\n",
      " 9   TipoPessoaJuridica  object\n",
      "dtypes: object(10)\n",
      "memory usage: 364.7+ MB\n"
     ]
    }
   ],
   "metadata": {}
  }
 ]
}