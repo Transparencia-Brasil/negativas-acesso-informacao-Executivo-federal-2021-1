{
 "metadata": {
  "language_info": {
   "codemirror_mode": {
    "name": "ipython",
    "version": 3
   },
   "file_extension": ".py",
   "mimetype": "text/x-python",
   "name": "python",
   "nbconvert_exporter": "python",
   "pygments_lexer": "ipython3",
   "version": "3.8.3"
  },
  "orig_nbformat": 4,
  "kernelspec": {
   "name": "python3",
   "display_name": "Python 3.8.3 64-bit"
  },
  "interpreter": {
   "hash": "ca67d84a36abdc019b205ab7c50d01a04b833376a62d5994dd24f404f2732c8e"
  }
 },
 "nbformat": 4,
 "nbformat_minor": 2,
 "cells": [
  {
   "source": [
    "## Setup"
   ],
   "cell_type": "markdown",
   "metadata": {}
  },
  {
   "cell_type": "code",
   "execution_count": 1,
   "metadata": {},
   "outputs": [],
   "source": [
    "import xml.etree.ElementTree as ET\n",
    "from lxml import etree\n",
    "import pandas as pandas\n",
    "import numpy as np\n",
    "from datetime import datetime, timedelta"
   ]
  },
  {
   "source": [
    "## pedidos"
   ],
   "cell_type": "markdown",
   "metadata": {}
  },
  {
   "cell_type": "code",
   "execution_count": null,
   "metadata": {},
   "outputs": [],
   "source": [
    "f = open('C:/Users/rauld/Documents/negativas-acesso-informacao-Executivo-federal-2021-1/dados/load/xml/20210610_Pedidos_xml_2015.xml','r',encoding='utf-16')\n",
    "xml_data = f.read()\n",
    "xml_data = xml_data.replace('&','')"
   ]
  },
  {
   "cell_type": "code",
   "execution_count": 7,
   "metadata": {},
   "outputs": [
    {
     "output_type": "execute_result",
     "data": {
      "text/plain": [
       "<function str.__sizeof__()>"
      ]
     },
     "metadata": {},
     "execution_count": 7
    }
   ],
   "source": [
    "f = open('C:/Users/rauld/Documents/negativas-acesso-informacao-Executivo-federal-2021-1/dados/load/xml/20210610_Pedidos_xml_2016.xml','r',encoding='utf-16')\n",
    "xml_data = f.read()\n",
    "xml_data = xml_data.replace('&','')\n",
    "\n",
    "a = open(xml_data, \"w\")\n",
    "a.write('textpy.txt')"
   ]
  },
  {
   "cell_type": "code",
   "execution_count": null,
   "metadata": {},
   "outputs": [],
   "source": [
    "f = open('C:/Users/rauld/Documents/negativas-acesso-informacao-Executivo-federal-2021-1/dados/load/xml/20210610_Pedidos_xml_2017.xml','r',encoding='utf-16')\n",
    "xml_data = f.read()\n",
    "xml_data = xml_data.replace('&','')\n",
    "\n",
    "root = ET.XML(xml_data)\n",
    "pedidos = []\n",
    "for obj in list(root):\n",
    "    pedidos.append(obj.attrib)\n",
    "    \n",
    "df_2017 = pandas.DataFrame(pedidos)\n",
    "df_2017['id_ano']= df_2017['IdPedido']+'_2017'\n",
    "\n",
    "df_2017.info()"
   ]
  },
  {
   "cell_type": "code",
   "execution_count": null,
   "metadata": {},
   "outputs": [],
   "source": []
  }
 ]
}